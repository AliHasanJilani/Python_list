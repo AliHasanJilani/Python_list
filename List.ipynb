{
 "cells": [
  {
   "cell_type": "code",
   "execution_count": 5,
   "id": "c844c5fe-97f4-43e1-95c0-f541aee4d3f6",
   "metadata": {},
   "outputs": [
    {
     "name": "stdout",
     "output_type": "stream",
     "text": [
      "Even Numbers: [10, 66, 78, 92]\n",
      "Odd Numbers: [23, 45, 89]\n"
     ]
    }
   ],
   "source": [
    "numbers = [10, 23, 45, 66, 78, 89, 92]\n",
    "\n",
    "even = list(filter(lambda x: x % 2 == 0, numbers))\n",
    "odd = list(filter(lambda x: x % 2 != 0, numbers))\n",
    "\n",
    "print(\"Even Numbers:\", even)\n",
    "print(\"Odd Numbers:\", odd)\n"
   ]
  },
  {
   "cell_type": "code",
   "execution_count": 17,
   "id": "672e5e44-3f56-4795-9aa9-f683c923ca3d",
   "metadata": {},
   "outputs": [
    {
     "name": "stdout",
     "output_type": "stream",
     "text": [
      "Negative: 3\n",
      "Positive: 3\n",
      "Zero: 2\n"
     ]
    }
   ],
   "source": [
    "numbers = [3, -1, 0, 4, -2, 7, 0, -6]\n",
    "Positive=0\n",
    "Negative=0\n",
    "Zero=0\n",
    "for i in numbers:\n",
    "    if i<0:\n",
    "        Negative+=1\n",
    "    elif i>0:\n",
    "        Positive+=1\n",
    "    else:\n",
    "        Zero+=1\n",
    "\n",
    "print(\"Negative:\",Negative)\n",
    "print(\"Positive:\",Positive)\n",
    "print(\"Zero:\",Zero)"
   ]
  },
  {
   "cell_type": "code",
   "execution_count": 15,
   "id": "e89bdf84-7e09-4f4e-ae51-65dd22a85bd0",
   "metadata": {},
   "outputs": [
    {
     "name": "stdout",
     "output_type": "stream",
     "text": [
      "sum: 24\n"
     ]
    }
   ],
   "source": [
    "numbers = [4, 7, 1, 9, 3]\n",
    "sum=0\n",
    "\n",
    "for i in range(len(numbers)):\n",
    "    sum+=numbers[i]\n",
    "print(\"sum:\",sum)"
   ]
  },
  {
   "cell_type": "code",
   "execution_count": 29,
   "id": "f863dd1d-e3fd-47c0-9162-9e8cbf52d1d6",
   "metadata": {},
   "outputs": [
    {
     "name": "stdout",
     "output_type": "stream",
     "text": [
      "[5, 4, 3, 2, 1]\n"
     ]
    }
   ],
   "source": [
    "numbers=[1,2,3,4,5]\n",
    "list1=[]\n",
    "for i in range(len(numbers),0,-1):\n",
    "    list1.append(i)\n",
    "    \n",
    "print(list1)\n",
    "    "
   ]
  },
  {
   "cell_type": "code",
   "execution_count": 59,
   "id": "c5172624-642a-4f26-a9c3-e20d5fd6891c",
   "metadata": {},
   "outputs": [
    {
     "name": "stdout",
     "output_type": "stream",
     "text": [
      "[1, 3, 5, 3, 7, 9, 1, 5]\n"
     ]
    }
   ],
   "source": [
    "numbers = [1, 3, 5, 3, 7, 9, 1, 5]\n",
    "\n",
    "list1=[]\n",
    "\n",
    "for i in range(len(numbers)):\n",
    "    for j in range(len(numbers)) :\n",
    "        if numbers[i]==numbers[j-1]:\n",
    "            numbers.remove\n",
    "\n",
    "print(numbers)"
   ]
  },
  {
   "cell_type": "code",
   "execution_count": 87,
   "id": "58a8bca1-293d-4a97-b395-ec1a5530f5a8",
   "metadata": {},
   "outputs": [
    {
     "name": "stdout",
     "output_type": "stream",
     "text": [
      "largest: 20 smallest: 5\n"
     ]
    }
   ],
   "source": [
    "numbers = [5, 12, 8, 3, 20, 15]\n",
    "largest=numbers[0]\n",
    "smallest=numbers[0]\n",
    "for num in numbers:\n",
    "    if num>largest:\n",
    "        largest=num\n",
    "        if num<smallest:\n",
    "            smallest=sum\n",
    "print(\"largest:\",largest,\"smallest:\",smallest) \n",
    "    "
   ]
  },
  {
   "cell_type": "code",
   "execution_count": 91,
   "id": "9e220102-5354-4844-96cd-afeaeda913cf",
   "metadata": {},
   "outputs": [
    {
     "name": "stdout",
     "output_type": "stream",
     "text": [
      "Duplicate Elements: [1, 3, 5]\n"
     ]
    }
   ],
   "source": [
    "numbers = [1, 3, 5, 3, 7, 9, 1, 5]\n",
    "Duplicate=[]\n",
    "\n",
    "for i in range(len(numbers)):\n",
    "    for j in range(i+1,len(numbers)):\n",
    "        if numbers[i]==numbers[j]:\n",
    "            Duplicate.append(numbers[i])\n",
    "\n",
    "print(\"Duplicate Elements:\",Duplicate)"
   ]
  },
  {
   "cell_type": "code",
   "execution_count": 95,
   "id": "ef94092d-23e0-4051-93d8-72b31dd075f8",
   "metadata": {},
   "outputs": [
    {
     "name": "stdout",
     "output_type": "stream",
     "text": [
      "Duplicate Elements: [2, 4, 6, 8, 10]\n"
     ]
    }
   ],
   "source": [
    "numbers = [2, 4, 6, 8, 4, 2, 10, 6]\n",
    "Duplicate=[]\n",
    "\n",
    "for num in numbers:\n",
    "        if num not in Duplicate:\n",
    "            Duplicate.append(num)\n",
    "\n",
    "print(\"Duplicate Elements:\",Duplicate)"
   ]
  },
  {
   "cell_type": "code",
   "execution_count": 107,
   "id": "4223b92e-36ec-4a13-9c7e-5cb4cb7aa3d1",
   "metadata": {},
   "outputs": [
    {
     "name": "stdout",
     "output_type": "stream",
     "text": [
      "Second largest number: 12\n"
     ]
    }
   ],
   "source": [
    "numbers = [4, 8, 12, 5, 18, 9]\n",
    "largest=numbers[0]\n",
    "second_largest=numbers[0]\n",
    "\n",
    "for num in numbers:\n",
    "    if num>largest:\n",
    "        second_largest=largest\n",
    "        largest=num\n",
    "    elif num>second_largest:\n",
    "        second_largest=num\n",
    "\n",
    "print(\"Second largest number:\", second_largest)"
   ]
  },
  {
   "cell_type": "code",
   "execution_count": 137,
   "id": "743e1ff3-7c1c-4e9e-a631-f32cbe014246",
   "metadata": {},
   "outputs": [
    {
     "name": "stdout",
     "output_type": "stream",
     "text": [
      "list is sorted\n"
     ]
    }
   ],
   "source": [
    "numbers = [2, 5, 7, 10, 15]\n",
    "sort=True\n",
    "for i in range(len(numbers)-1):\n",
    "    if numbers[i]>numbers[i+1]:\n",
    "        sort=False\n",
    "        break\n",
    "\n",
    "if sort:\n",
    "    print(\"list is sorted\")\n",
    "else:\n",
    "    print(\"list is not sorted\")"
   ]
  }
 ],
 "metadata": {
  "kernelspec": {
   "display_name": "Python [conda env:base] *",
   "language": "python",
   "name": "conda-base-py"
  },
  "language_info": {
   "codemirror_mode": {
    "name": "ipython",
    "version": 3
   },
   "file_extension": ".py",
   "mimetype": "text/x-python",
   "name": "python",
   "nbconvert_exporter": "python",
   "pygments_lexer": "ipython3",
   "version": "3.12.7"
  }
 },
 "nbformat": 4,
 "nbformat_minor": 5
}

a = 12345

even_digits = [int(digit) for digit in str(a) if int(digit) % 2 == 0]
odd_digits = [int(digit) for digit in str(a) if int(digit) % 2 != 0]

print("Even digits:", even_digits)
print("Odd digits:", odd_digits)

