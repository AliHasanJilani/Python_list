{
 "cells": [
  {
   "cell_type": "code",
   "execution_count": 13,
   "id": "b5e9415b-da87-43a7-9a5f-c45e4e885a91",
   "metadata": {},
   "outputs": [],
   "source": [
    "# list comprehension\n",
    "# list comprehensions in python provide a concise way to create lists \n",
    "# They are more readable and efficient than traditional for loops."
   ]
  },
  {
   "cell_type": "code",
   "execution_count": 21,
   "id": "5d5a39ac-584a-4c16-89db-68edc333a641",
   "metadata": {},
   "outputs": [
    {
     "name": "stdout",
     "output_type": "stream",
     "text": [
      "[1, 4, 9, 16, 25]\n"
     ]
    }
   ],
   "source": [
    "# list of squares \n",
    "squares=[x**2 for x in range(1,6)]\n",
    "print(squares)"
   ]
  },
  {
   "cell_type": "code",
   "execution_count": 23,
   "id": "13cef139-fea7-4d4c-b510-bb648b3af4f3",
   "metadata": {},
   "outputs": [
    {
     "name": "stdout",
     "output_type": "stream",
     "text": [
      "[0, 2, 4, 6, 8]\n"
     ]
    }
   ],
   "source": [
    "# filter even numbers\n",
    "evens =[x for x in range(10) if x%2==0]\n",
    "print(evens)"
   ]
  },
  {
   "cell_type": "code",
   "execution_count": 25,
   "id": "c8e3d158-5033-4b75-b466-cc9119c9a661",
   "metadata": {},
   "outputs": [
    {
     "name": "stdout",
     "output_type": "stream",
     "text": [
      "['ALI', 'AMAN', 'MUZZ']\n"
     ]
    }
   ],
   "source": [
    "# string to uppercase\n",
    "names=[\"ali\",\"aman\",\"muzz\"]\n",
    "upper_case=[name.upper() for name in names]\n",
    "print(upper_case)"
   ]
  },
  {
   "cell_type": "code",
   "execution_count": 29,
   "id": "626ac837-5a97-415d-94c8-940925bee195",
   "metadata": {},
   "outputs": [
    {
     "name": "stdout",
     "output_type": "stream",
     "text": [
      "[1, 2, 3, 4, 5, 6]\n"
     ]
    }
   ],
   "source": [
    "# flatten a nested list**\n",
    "matrix=[[1,2],[3,4],[5,6]]\n",
    "flattened = [num for sublist in matrix for num in sublist]\n",
    "print(flattened)"
   ]
  },
  {
   "cell_type": "code",
   "execution_count": 31,
   "id": "cda2e1fe-649b-42ba-99ea-efab59b791a3",
   "metadata": {},
   "outputs": [
    {
     "name": "stdout",
     "output_type": "stream",
     "text": [
      "[(0, 0), (0, 1), (0, 2), (1, 0), (1, 1), (1, 2), (2, 0), (2, 1), (2, 2)]\n"
     ]
    }
   ],
   "source": [
    "# list of tuples\n",
    "pairs = [(x,y) for x in range(3) for y in range(3)]\n",
    "print(pairs)"
   ]
  },
  {
   "cell_type": "code",
   "execution_count": 33,
   "id": "7e0dead3-9876-4df2-bd46-1dbab3819c5b",
   "metadata": {},
   "outputs": [],
   "source": [
    "# Dictionary comprehansion\n",
    "# Dictionary comprehension in python offer a concise way to crerate \n",
    "# dictionary from iterables.\n",
    "\n",
    "# similar to list comprehension \n",
    "# They allows you to construct dictionary in single line , \n",
    "# with an optional condition for filtering"
   ]
  },
  {
   "cell_type": "code",
   "execution_count": 37,
   "id": "4af127b8-c7cb-4d75-985d-a306fa7db20a",
   "metadata": {},
   "outputs": [
    {
     "name": "stdout",
     "output_type": "stream",
     "text": [
      "{1: 1, 2: 4, 3: 9, 4: 16, 5: 25, 6: 36, 7: 49}\n"
     ]
    }
   ],
   "source": [
    "squares={x:x**2 for x in range(1,8)}\n",
    "print(squares)"
   ]
  },
  {
   "cell_type": "code",
   "execution_count": 39,
   "id": "4fbf6ef7-6cac-470b-9bf7-f89c2d92ee01",
   "metadata": {},
   "outputs": [
    {
     "name": "stdout",
     "output_type": "stream",
     "text": [
      "{0: 0, 2: 4, 4: 16, 6: 36, 8: 64}\n"
     ]
    }
   ],
   "source": [
    "even ={x:x**2 for x in range(10) if x%2==0}\n",
    "print(even)"
   ]
  },
  {
   "cell_type": "code",
   "execution_count": 45,
   "id": "5dbfb9bf-9102-429e-a18c-0f02a67851f0",
   "metadata": {},
   "outputs": [
    {
     "name": "stdout",
     "output_type": "stream",
     "text": [
      "{1: 'a', 2: 'b', 3: 'c'}\n"
     ]
    }
   ],
   "source": [
    "# reverse a dictionary\n",
    "\n",
    "original={'a':1,'b':2, 'c':3}\n",
    "reversed_dict={v:k for k , v in original.items()}\n",
    "print(reversed_dict)"
   ]
  },
  {
   "cell_type": "code",
   "execution_count": 47,
   "id": "5858821a-d435-4d2b-b551-b3f71756fc9e",
   "metadata": {},
   "outputs": [
    {
     "name": "stdout",
     "output_type": "stream",
     "text": [
      "{'apple': 5, 'banana': 6, 'cherry': 6}\n"
     ]
    }
   ],
   "source": [
    "words = [\"apple\", \"banana\", \"cherry\"]\n",
    "length={word: len(word) for word in words}\n",
    "print(length)"
   ]
  },
  {
   "cell_type": "code",
   "execution_count": 51,
   "id": "17fe5765-b6aa-40f9-891a-ec1784192c78",
   "metadata": {},
   "outputs": [
    {
     "name": "stdout",
     "output_type": "stream",
     "text": [
      "{1: 'odd', 2: 'even', 3: 'odd', 4: 'even', 5: 'odd'}\n"
     ]
    }
   ],
   "source": [
    "even_odd_dict={x:('even' if x%2==0 else'odd') for x in range(1,6)}\n",
    "print(even_odd_dict)"
   ]
  }
 ],
 "metadata": {
  "kernelspec": {
   "display_name": "Python [conda env:base] *",
   "language": "python",
   "name": "conda-base-py"
  },
  "language_info": {
   "codemirror_mode": {
    "name": "ipython",
    "version": 3
   },
   "file_extension": ".py",
   "mimetype": "text/x-python",
   "name": "python",
   "nbconvert_exporter": "python",
   "pygments_lexer": "ipython3",
   "version": "3.12.7"
  }
 },
 "nbformat": 4,
 "nbformat_minor": 5
}
